import pickle
from sklearn.preprocessing import LabelEncoder


for col in df.select_dtypes(include="object"):
    le = LabelEncoder()
    df[col] = le.fit_transform(df[[col]]).ravel()
    # Save the LabelEncoder for each column
    with open(f'{col}_label_encoder.pkl', 'wb') as f:
        pickle.dump(le, f) 
for name, model in models.items():
    model.fit(X_train, y_train)
    y_pred = model.predict(X_test)
    accuracy = accuracy_score(y_test, y_pred)
    print(f"{name}: {accuracy}")
    print(f"{name} Precision: {precision_score(y_test, y_pred)}")
    print(f"{name} Recall : {recall_score(y_test, y_pred)}")
    print(f"{name} F1 Score: {f1_score(y_test, y_pred)}")
    print(f"{name} Confusion Matrix: \n{confusion_matrix(y_test, y_pred)}")
    print(f"{name} Classification Report: \n{classification_report(y_test, y_pred)}")
    pickle.dump(model, open(f'{name}.pkl', 'wb'))
